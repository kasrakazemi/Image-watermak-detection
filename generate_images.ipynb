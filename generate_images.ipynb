{
 "cells": [
  {
   "cell_type": "code",
   "execution_count": 18,
   "metadata": {},
   "outputs": [],
   "source": [
    "import os, shutil\n",
    "import tensorflow as tf\n",
    "from tensorflow import keras\n",
    "from tensorflow.keras import layers\n",
    "from tensorflow.keras import models\n",
    "from keras.preprocessing.image import ImageDataGenerator\n",
    "import numpy as np\n",
    "import matplotlib.pyplot as plt\n",
    "from PIL import Image\n",
    "from PIL import ImageFont\n",
    "from PIL import ImageDraw, ImageOps\n",
    "import string\n",
    "import numpy as np\n",
    "#import cv2"
   ]
  },
  {
   "cell_type": "code",
   "execution_count": 4,
   "metadata": {},
   "outputs": [],
   "source": [
    "#set the seed\n",
    "np.random.seed(seed=123)"
   ]
  },
  {
   "cell_type": "markdown",
   "metadata": {},
   "source": [
    "### Function to generate watermarks on images:"
   ]
  },
  {
   "cell_type": "code",
   "execution_count": 23,
   "metadata": {},
   "outputs": [],
   "source": [
    "#list of printable characters that could appear in a watermark\n",
    "prints = list(string.printable)[0:84]"
   ]
  },
  {
   "cell_type": "code",
   "execution_count": 19,
   "metadata": {},
   "outputs": [],
   "source": [
    "def gen_watermark(im_str, train = 1):\n",
    "    \n",
    "    #open all of the images from the VOC2008 dataset as jpegs\n",
    "    img = Image.open(\"C:/Users/kasra/Desktop/Cup/2/TestImages/JPEGImages/{}\".format(im_str))\n",
    "    \n",
    "    #save original image as np array to 'RAWS' directory\n",
    "    img.save('C:/Users/kasra/Desktop/Cup/2/TestImages/raw_imgs/{}'.format(im_str))\n",
    "    \n",
    "    #generate random font size between 30-100\n",
    "    font_size = np.random.randint(low = 20, high = 100)\n",
    "    \n",
    "    #create the watermark font for the image\n",
    "    font = ImageFont.truetype(\"abel-regular.ttf\", font_size) \n",
    "    \n",
    "    #generate image to hold the watermark text object\n",
    "    img_temp = Image.new('L', (350,350))\n",
    "    \n",
    "    #create the watermark text, of random length, using random printable characters\n",
    "    text_str = np.random.choice(prints, np.random.randint(low=5, high = 10))\n",
    "    text_str = \"\".join(text_str)\n",
    "    \n",
    "    #draw on temporary image with text\n",
    "    draw_temp = ImageDraw.Draw(img_temp) \n",
    "    \n",
    "    #generate a random integer for the opacity argument (fill)\n",
    "    opac = np.random.randint(low=90, high=120)\n",
    "    \n",
    "    #insert text onto the temporary image\n",
    "    draw_temp.text((0, 0), text_str,  font=font, fill=opac)\n",
    "    \n",
    "    #generate a random integer for rotation:\n",
    "    rot_int = np.random.randint(low = 0, high = 20)\n",
    "    \n",
    "    #rotate the text on the temporary image\n",
    "    rotated_text = img_temp.rotate(rot_int,  expand=1)\n",
    "    \n",
    "    #default color of watermark set to white; change if desired\n",
    "    col_1 = (255,0,0)\n",
    "    col_2 = (0,0,0)\n",
    "    \n",
    "    #generate a random location for the watermark on the image\n",
    "    rand_loc = tuple(np.random.randint(low=10,high=100, size = (2,)))\n",
    "    \n",
    "    #merge the temporary image with text with the image passed in \n",
    "    #third tuple also needs to be random: controls the location of the img\n",
    "    img.paste(ImageOps.colorize(rotated_text, col_1, col_2), rand_loc,  rotated_text)\n",
    "    \n",
    "    #this yeilds a new image with a watermark\n",
    "    #save this jpeg with a watermark to the WATS directory\n",
    "    img.save('C:/Users/kasra/Desktop/Cup/2/TestImages/wat_imgs/{}'.format(im_str))"
   ]
  },
  {
   "cell_type": "markdown",
   "metadata": {},
   "source": [
    "### Creating the directories to hold the original and watermarked images:"
   ]
  },
  {
   "cell_type": "code",
   "execution_count": 20,
   "metadata": {},
   "outputs": [],
   "source": [
    "# rpath = \"/gpfs_home/guest321/FinalProj/FinalProjectFinal/RAWS\"\n",
    "# wpath = \"/gpfs_home/guest321/FinalProj/FinalProjectFinal/WATS\"\n",
    "\n",
    "# if not os.path.exists(rpath):\n",
    "#     os.mkdir(rpath)\n",
    "#     os.mkdir(\"/gpfs_home/guest321/FinalProj/FinalProjectFinal/RAWS/raw_imgs\")\n",
    "# else:\n",
    "#     shutil.rmtree(rpath)  \n",
    "    \n",
    "# if not os.path.exists(wpath):\n",
    "#     os.mkdir(wpath)\n",
    "#     os.mkdir(\"/gpfs_home/guest321/FinalProj/FinalProjectFinal/WATS/wat_imgs\")\n",
    "# else:\n",
    "#     shutil.rmtree(wpath)"
   ]
  },
  {
   "cell_type": "markdown",
   "metadata": {},
   "source": [
    "### Generate images with and without watermarks:"
   ]
  },
  {
   "cell_type": "code",
   "execution_count": 21,
   "metadata": {},
   "outputs": [],
   "source": [
    "#generate \n",
    "im_list = os.listdir(\"C:/Users/kasra/Desktop/Cup/2/TestImages/JPEGImages\")\n",
    "\n",
    "#run time is about 5-6 minutes for all 5000 images:\n",
    "for ind, img in enumerate(im_list):\n",
    "    \n",
    "    #add the watermark to the image and save to 'watered' directory\n",
    "    wat_img = gen_watermark(img)\n",
    "    "
   ]
  },
  {
   "cell_type": "markdown",
   "metadata": {},
   "source": [
    "### Examples below:"
   ]
  },
  {
   "cell_type": "code",
   "execution_count": 22,
   "metadata": {},
   "outputs": [],
   "source": [
    "# dir_raw = os.listdir(\"/gpfs_home/guest321/FinalProj/FinalProjectFinal/RAWS/raw_imgs\")\n",
    "# dir_wats = os.listdir(\"/gpfs_home/guest321/FinalProj/FinalProjectFinal/WATS/wat_imgs\")\n",
    "\n",
    "# #example: \n",
    "# raw_str = \"/gpfs_home/guest321/FinalProj/FinalProjectFinal/RAWS/raw_imgs/\"\n",
    "# wat_str = \"/gpfs_home/guest321/FinalProj/FinalProjectFinal/WATS/wat_imgs/\"\n",
    "\n",
    "# f, axs = plt.subplots(3,2, figsize=(25, 25), sharey=True, sharex = True)\n",
    "# axs = axs.ravel()\n",
    "\n",
    "# img_raw = Image.open(raw_str + dir_raw[4])\n",
    "# img_wat = Image.open(wat_str + dir_wats[4])\n",
    "# axs[0].imshow(img_raw)\n",
    "# axs[1].imshow(img_wat)\n",
    "\n",
    "# img_raw = Image.open(raw_str + dir_raw[5])\n",
    "# img_wat = Image.open(wat_str + dir_wats[5])\n",
    "# axs[2].imshow(img_raw)\n",
    "# axs[3].imshow(img_wat)\n",
    "\n",
    "# img_raw = Image.open(raw_str + dir_raw[10])\n",
    "# img_wat = Image.open(wat_str + dir_wats[10])\n",
    "# axs[4].imshow(img_raw)\n",
    "# axs[5].imshow(img_wat)\n",
    "\n",
    "# plt.show()"
   ]
  },
  {
   "cell_type": "code",
   "execution_count": null,
   "metadata": {},
   "outputs": [],
   "source": []
  }
 ],
 "metadata": {
  "kernelspec": {
   "display_name": "Python 3",
   "language": "python",
   "name": "python3"
  },
  "language_info": {
   "codemirror_mode": {
    "name": "ipython",
    "version": 3
   },
   "file_extension": ".py",
   "mimetype": "text/x-python",
   "name": "python",
   "nbconvert_exporter": "python",
   "pygments_lexer": "ipython3",
   "version": "3.7.4"
  }
 },
 "nbformat": 4,
 "nbformat_minor": 2
}
